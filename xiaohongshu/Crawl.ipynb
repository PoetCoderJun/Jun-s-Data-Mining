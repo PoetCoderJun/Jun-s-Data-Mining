{
 "cells": [
  {
   "cell_type": "code",
   "execution_count": 3,
   "metadata": {},
   "outputs": [],
   "source": [
    "from selenium import webdriver    # Connect chrome browser to open NYSE offical page\n",
    "from selenium.webdriver.chrome.options import Options\n",
    "options = Options()\n",
    "options.add_argument('--headless')\n",
    "options.add_argument('--disable-gpu')\n",
    "options.add_argument('--no-sandbox')\n",
    "driver = webdriver.Chrome(executable_path=\"/Users/huzujun/Desktop/chromedriver\", chrome_options=options)"
   ]
  },
  {
   "cell_type": "code",
   "execution_count": null,
   "metadata": {},
   "outputs": [],
   "source": [
    "import time\n",
    "def get_page_info(idx):\n",
    "    url = f'https://www.xiaohongshu.com/discovery/item/{idx}'\n",
    "    driver.get(url)\n",
    "    return driver.page_source\n",
    "\n",
    "def get_info_from_page(page):\n",
    "    user_info_str = re.findall(r\"<script>window.__INITIAL_SSR_STATE__[\\s\\S]*?{([\\s\\S]+?)}</script>\"\n",
    "                                , page)[0].strip()\n",
    "    user_info_str = \"{\" + \"{}\".format(user_info_str) + \"}\"\n",
    "    users_info = json.loads(user_info_str.replace('undefined', 'null'))\n",
    "    note_info_json = users_info['NoteView']['noteInfo']\n",
    "\n",
    "    #print(note_info_json.keys())\n",
    "    note_info = {}\n",
    "    note_info['desc'] = note_info_json['desc']\n",
    "    note_info['hashTags'] = len(note_info_json['hashTags'])\n",
    "    note_info['keywords'] = note_info_json['seoMeta']['keywords']\n",
    "    note_info['user_id'] = note_info_json['user']['id']\n",
    "    note_info['time'] = note_info_json['time']\n",
    "    return note_info\n",
    "\n",
    "columns_name = ['desc', 'hashTags', 'keywords', 'user_id', 'time', 'title', 'liked_count',\n",
    "                'image_nums', 'nickname']\n",
    "notes_info = pd.DataFrame(columns = columns_name)\n",
    "keywords = ['经验', '好物', '职业', '阅读', '知识', '广州', '深圳', '珠海', '探店', '算法', '数据', 'leetcode', '学习', '程序员', '香港', '干货', '留学']\n",
    "for keyword in keywords:\n",
    "    for page_index in range(1, 50):\n",
    "        try:\n",
    "            result = wh.get_search_notes(keyword, page_index)\n",
    "            items = result['result']['data']['items']\n",
    "            for item in items:\n",
    "                try:\n",
    "                    if (item['note']['type'] == 'normal'):\n",
    "                        page = get_page_info(item['note']['id'])\n",
    "                        time.sleep(1)\n",
    "                        note_info = get_info_from_page(page)\n",
    "                        note_info['search_word'] = keyword\n",
    "                        note_info['title'] = item['note']['title']\n",
    "                        note_info['liked_count'] = item['note']['liked_count']\n",
    "                        note_info['image_nums'] = len(item['note']['images_list'])\n",
    "                        note_info['nickname'] = item['note']['user']['nickname']\n",
    "                        notes_info = notes_info.append(note_info.copy(), ignore_index=True)\n",
    "                except Exception as e:\n",
    "                    print(e)\n",
    "            print(len(notes_info))\n",
    "        except Exception as e:\n",
    "            print(e)\n",
    "        print(notes_info.tail())\n",
    "        print(keyword, page_index)"
   ]
  }
 ],
 "metadata": {
  "kernelspec": {
   "display_name": "Python 3 (ipykernel)",
   "language": "python",
   "name": "python3"
  },
  "language_info": {
   "codemirror_mode": {
    "name": "ipython",
    "version": 3
   },
   "file_extension": ".py",
   "mimetype": "text/x-python",
   "name": "python",
   "nbconvert_exporter": "python",
   "pygments_lexer": "ipython3",
   "version": "3.8.11"
  }
 },
 "nbformat": 4,
 "nbformat_minor": 4
}
